{
  "nbformat": 4,
  "nbformat_minor": 0,
  "metadata": {
    "colab": {
      "provenance": [],
      "authorship_tag": "ABX9TyPiVHbG3NmSDLOuSyyCDCjb",
      "include_colab_link": true
    },
    "kernelspec": {
      "name": "python3",
      "display_name": "Python 3"
    },
    "language_info": {
      "name": "python"
    }
  },
  "cells": [
    {
      "cell_type": "markdown",
      "metadata": {
        "id": "view-in-github",
        "colab_type": "text"
      },
      "source": [
        "<a href=\"https://colab.research.google.com/github/con321dude/Minor-Side-Projects/blob/master/PandasFunctions.ipynb\" target=\"_parent\"><img src=\"https://colab.research.google.com/assets/colab-badge.svg\" alt=\"Open In Colab\"/></a>"
      ]
    },
    {
      "cell_type": "markdown",
      "source": [
        "**Basic Python and pandas**\n",
        "\n",
        "Create a 10x10 numpy array filled with zeros"
      ],
      "metadata": {
        "id": "XMUoCLdjkhK1"
      }
    },
    {
      "cell_type": "code",
      "execution_count": null,
      "metadata": {
        "id": "ob3JE4RLkaBF"
      },
      "outputs": [],
      "source": [
        "import numpy as np\n",
        "arr = np.zeros((10,10))\n"
      ]
    },
    {
      "cell_type": "markdown",
      "source": [
        "Create a pandas DataFrame from a dictionary with columns 'Name', 'Age', and 'Occupation'."
      ],
      "metadata": {
        "id": "0Xrm8Mvikcld"
      }
    },
    {
      "cell_type": "code",
      "source": [
        "import pandas as pd\n",
        "data = {'Name': ['Alice', 'Bob', 'Charlie'], 'Age': [25, 30, 35], 'Occupation': ['Engineer', 'Doctor', 'Teacher']}\n",
        "df = pd.DataFrame(data)\n"
      ],
      "metadata": {
        "id": "eR4ZlKGxkdM5"
      },
      "execution_count": null,
      "outputs": []
    },
    {
      "cell_type": "markdown",
      "source": [
        "Write a function to find and return the mean age in the dataframe.\n"
      ],
      "metadata": {
        "id": "bRMRaZX0kcob"
      }
    },
    {
      "cell_type": "code",
      "source": [
        "theMean = df['Age'].mean()\n",
        "\n",
        "print(theMean)"
      ],
      "metadata": {
        "colab": {
          "base_uri": "https://localhost:8080/"
        },
        "id": "6vPirCRFkdkO",
        "outputId": "bef465bf-f79e-4f6e-fc6b-63207933caea"
      },
      "execution_count": null,
      "outputs": [
        {
          "output_type": "stream",
          "name": "stdout",
          "text": [
            "30.0\n"
          ]
        }
      ]
    },
    {
      "cell_type": "markdown",
      "source": [
        "Write a function to filter the dataframe by a given occupation.\n"
      ],
      "metadata": {
        "id": "j7z082dDkcrD"
      }
    },
    {
      "cell_type": "code",
      "source": [
        "engineers = df[df['Occupation'] == \"Engineer\"]\n",
        "print(engineers)"
      ],
      "metadata": {
        "colab": {
          "base_uri": "https://localhost:8080/"
        },
        "id": "5W1GJ7gtkd51",
        "outputId": "5d0e889d-e67d-4e84-98d3-0fabbb4a6998"
      },
      "execution_count": null,
      "outputs": [
        {
          "output_type": "stream",
          "name": "stdout",
          "text": [
            "    Name  Age Occupation\n",
            "0  Alice   25   Engineer\n"
          ]
        }
      ]
    },
    {
      "cell_type": "markdown",
      "source": [
        "**Data Cleaning**\n",
        "\n",
        "Given a DataFrame with some missing (NaN) values, write a function to fill these missing values with the mean of the respective column."
      ],
      "metadata": {
        "id": "PwLkeomlkctt"
      }
    },
    {
      "cell_type": "code",
      "source": [
        "df = df.fillna(df.mean())\n"
      ],
      "metadata": {
        "colab": {
          "base_uri": "https://localhost:8080/"
        },
        "id": "BB_vaztIkePS",
        "outputId": "4b7b87e9-5515-4252-c8e2-a2e6be331015"
      },
      "execution_count": null,
      "outputs": [
        {
          "output_type": "stream",
          "name": "stderr",
          "text": [
            "<ipython-input-8-04e87d67d337>:1: FutureWarning: The default value of numeric_only in DataFrame.mean is deprecated. In a future version, it will default to False. In addition, specifying 'numeric_only=None' is deprecated. Select only valid columns or specify the value of numeric_only to silence this warning.\n",
            "  df = df.fillna(df.mean())\n"
          ]
        }
      ]
    },
    {
      "cell_type": "markdown",
      "source": [
        "Write a function to remove duplicate entries in the DataFrame based on the 'Name' column."
      ],
      "metadata": {
        "id": "p0RUKnajkcwA"
      }
    },
    {
      "cell_type": "code",
      "source": [
        "df = df.drop_duplicates(subset='Name')\n"
      ],
      "metadata": {
        "id": "IwD6avkakeip"
      },
      "execution_count": null,
      "outputs": []
    },
    {
      "cell_type": "markdown",
      "source": [
        "**Data Joining**\n",
        "\n",
        "Assume that you have two DataFrames: df1 and df2. Both have a common column 'ID'. Write a function to perform an inner join of these two dataframes based on the 'ID' column."
      ],
      "metadata": {
        "id": "81fyV-xakc1o"
      }
    },
    {
      "cell_type": "code",
      "source": [
        "data1 = {\n",
        "    'ID': [1, 2, 3, 4, 5],\n",
        "    'Name': ['Alice', 'Bob', 'Charlie', 'David', 'Eve'],\n",
        "    'Age': [25, 30, 35, 40, 45]\n",
        "}\n",
        "\n",
        "data2 = {\n",
        "    'ID': [3, 4, 5, 6, 7],\n",
        "    'Occupation': ['Engineer', 'Doctor', 'Lawyer', 'Scientist', 'Artist'],\n",
        "    'Salary': [100000, 120000, 140000, 160000, 180000]\n",
        "}\n",
        "\n",
        "df1 = pd.DataFrame(data1)\n",
        "df2 = pd.DataFrame(data2)"
      ],
      "metadata": {
        "id": "FUOJnazulsXa"
      },
      "execution_count": null,
      "outputs": []
    },
    {
      "cell_type": "code",
      "source": [
        "new_df = pd.merge(df1, df2, on='ID', how='inner')\n",
        "print(new_df)"
      ],
      "metadata": {
        "colab": {
          "base_uri": "https://localhost:8080/"
        },
        "id": "a4LvL8RUke6P",
        "outputId": "7126fb69-2149-4dcd-e000-055a21f17555"
      },
      "execution_count": null,
      "outputs": [
        {
          "output_type": "stream",
          "name": "stdout",
          "text": [
            "   ID     Name  Age Occupation  Salary\n",
            "0   3  Charlie   35   Engineer  100000\n",
            "1   4    David   40     Doctor  120000\n",
            "2   5      Eve   45     Lawyer  140000\n"
          ]
        }
      ]
    },
    {
      "cell_type": "markdown",
      "source": [
        "**Data Validation**\n",
        "\n",
        "Suppose you have a DataFrame with a column called 'totals'. This column is supposed to be the sum of the values in other columns for each row. Write a function to check if the 'totals' column is correct, and if not, correct it."
      ],
      "metadata": {
        "id": "KnPUDlKHkgrR"
      }
    },
    {
      "cell_type": "code",
      "source": [
        "data = {\n",
        "    'Item_A': [2, 3, 1, 4],\n",
        "    'Item_B': [5, 2, 3, 1],\n",
        "    'Item_C': [1, 3, 2, 1],\n",
        "    'totals': [8, 15, 6, 5]  # The 'totals' column\n",
        "}\n",
        "\n",
        "df = pd.DataFrame(data)"
      ],
      "metadata": {
        "id": "YhNHFFObmIUQ"
      },
      "execution_count": null,
      "outputs": []
    },
    {
      "cell_type": "code",
      "source": [
        "df['totals'] = df.drop('totals', axis=1).sum(axis=1)\n",
        "print(df[\"totals\"])"
      ],
      "metadata": {
        "colab": {
          "base_uri": "https://localhost:8080/"
        },
        "id": "45ixDb3BlD4R",
        "outputId": "bfea6751-f7d7-4891-e9e1-091e4f4d296c"
      },
      "execution_count": null,
      "outputs": [
        {
          "output_type": "stream",
          "name": "stdout",
          "text": [
            "0    8\n",
            "1    8\n",
            "2    6\n",
            "3    6\n",
            "Name: totals, dtype: int64\n"
          ]
        }
      ]
    },
    {
      "cell_type": "markdown",
      "source": [
        "**Working with Unstructured Data**\n",
        "\n",
        "Given a text string (a paragraph or a page from a book), write a function to count the frequency of each word in the string. Consider using Python's collections.Counter for this."
      ],
      "metadata": {
        "id": "M5HloHwSlC6p"
      }
    },
    {
      "cell_type": "code",
      "source": [
        "from collections import Counter\n",
        "import re #regex\n",
        "\n",
        "def count_words(text):\n",
        "    words = re.findall(r'\\b\\w+\\b', text.lower())\n",
        "    return Counter(words)\n",
        "\n",
        "\n",
        "\"\"\"\n",
        "re.findall(): This is a function from Python's re (regular expressions) module. It finds all occurrences of a pattern in a string. In this case, the pattern is r'\\b\\w+\\b' and the string is text.lower().\n",
        "\n",
        "r'\\b\\w+\\b': This is the pattern we're looking for. In regular expressions:\n",
        "\n",
        "\\b is a word boundary. This means that the pattern has to start and end at the beginning or end of a word.\n",
        "\n",
        "\\w matches any word character (equivalent to [a-zA-Z0-9_]).\n",
        "\n",
        "+ means that the previous character can appear one or more times. So \\w+ means one or more word characters.\n",
        "\n",
        "In summary, \\b\\w+\\b matches whole words.\n",
        "\n",
        "text.lower(): This converts the text to lowercase before looking for the pattern. This ensures that the counting is case-insensitive (so 'The' and 'the' are counted as the same word).\n",
        "\n",
        "\"\"\"\n"
      ],
      "metadata": {
        "id": "CESljX50lDVh"
      },
      "execution_count": null,
      "outputs": []
    },
    {
      "cell_type": "markdown",
      "source": [
        "Ex:"
      ],
      "metadata": {
        "id": "P6RG9hwHkc45"
      }
    },
    {
      "cell_type": "code",
      "source": [
        "text = \"\"\"The quick brown fox jumps over the lazy dog. The quick brown fox is agile, and the lazy dog is not. The quick brown fox tries to teach the lazy dog, but the lazy dog doesn't seem interested. The quick brown fox never gives up on the lazy dog.\"\"\"\n"
      ],
      "metadata": {
        "id": "ujmvKliinCf7"
      },
      "execution_count": null,
      "outputs": []
    },
    {
      "cell_type": "code",
      "source": [
        "word_counts = count_words(text)\n",
        "print(word_counts)"
      ],
      "metadata": {
        "colab": {
          "base_uri": "https://localhost:8080/"
        },
        "id": "U0iKPk_nlDZz",
        "outputId": "5be2c5b5-b9e4-44a2-a893-1f52322fe163"
      },
      "execution_count": null,
      "outputs": [
        {
          "output_type": "stream",
          "name": "stdout",
          "text": [
            "Counter({'the': 9, 'lazy': 5, 'dog': 5, 'quick': 4, 'brown': 4, 'fox': 4, 'is': 2, 'jumps': 1, 'over': 1, 'agile': 1, 'and': 1, 'not': 1, 'tries': 1, 'to': 1, 'teach': 1, 'but': 1, 'doesn': 1, 't': 1, 'seem': 1, 'interested': 1, 'never': 1, 'gives': 1, 'up': 1, 'on': 1})\n"
          ]
        }
      ]
    }
  ]
}